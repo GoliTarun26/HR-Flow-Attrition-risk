{
 "cells": [
  {
   "cell_type": "code",
   "execution_count": 54,
   "id": "0061cd82-7e5d-4c8e-8849-be050681c76f",
   "metadata": {},
   "outputs": [],
   "source": [
    "import pandas as pd\n",
    "\n",
    "# Load your cleaned dataset\n",
    "df = pd.read_csv(r\"C:\\Users\\tarun\\OneDrive\\Desktop\\Project csv\\Attrition_data_cleaned.csv\")\n"
   ]
  },
  {
   "cell_type": "code",
   "execution_count": 55,
   "id": "d7eb3963-4730-4828-bd55-9bb22fd025b4",
   "metadata": {},
   "outputs": [],
   "source": [
    "dim_employee = df[['EmployeeNumber', 'Age', 'Gender', 'MaritalStatus', 'Education']].drop_duplicates()\n",
    "dim_employee = dim_employee.rename(columns={'EmployeeNumber': 'EmployeeID'})\n"
   ]
  },
  {
   "cell_type": "code",
   "execution_count": 56,
   "id": "b71777f2-5bda-4a5a-9bbc-96ff3a6de969",
   "metadata": {},
   "outputs": [],
   "source": [
    "dim_job = df[['Department', 'JobRole', 'OverTime']].drop_duplicates().reset_index(drop=True)\n",
    "dim_job.insert(0, 'JobRoleID', range(1, len(dim_job) + 1))  # Auto ID\n"
   ]
  },
  {
   "cell_type": "code",
   "execution_count": 57,
   "id": "bc3c0915-04c9-4335-863e-3746cdbf2c5c",
   "metadata": {},
   "outputs": [],
   "source": [
    "# Extract unique satisfaction profiles and add SatisfactionID\n",
    "dim_satisfaction = df[['JobSatisfaction', 'EnvironmentSatisfaction', 'RelationshipSatisfaction',\n",
    "                       'JobInvolvement', 'WorkLifeBalance']].drop_duplicates().reset_index(drop=True)\n",
    "dim_satisfaction.insert(0, 'SatisfactionID', range(1, len(dim_satisfaction) + 1))  # Auto ID\n"
   ]
  },
  {
   "cell_type": "code",
   "execution_count": 58,
   "id": "315e1772-d852-49d5-919a-825484389309",
   "metadata": {},
   "outputs": [],
   "source": [
    "# Extract time-related columns and add DateKey\n",
    "dim_time = df[['YearsAtCompany', 'YearsInCurrentRole']].drop_duplicates().reset_index(drop=True)\n",
    "dim_time.insert(0, 'DateKey', range(1, len(dim_time) + 1))  # Auto ID\n"
   ]
  },
  {
   "cell_type": "code",
   "execution_count": 59,
   "id": "0b67429c-f100-401d-be51-b9ab527d2ec2",
   "metadata": {},
   "outputs": [],
   "source": [
    "# Copy required fields for joining\n",
    "fact_df = df[['EmployeeNumber', 'Department', 'JobRole', 'OverTime',\n",
    "              'JobSatisfaction', 'EnvironmentSatisfaction', 'RelationshipSatisfaction',\n",
    "              'JobInvolvement', 'WorkLifeBalance', 'MonthlyIncome',\n",
    "              'Attrition', 'YearsAtCompany', 'YearsInCurrentRole']].copy()\n",
    "\n",
    "# Join with dim_job to get JobRoleID\n",
    "fact_df = fact_df.merge(dim_job, on=['Department', 'JobRole', 'OverTime'], how='left')\n",
    "\n",
    "# Join with dim_satisfaction to get SatisfactionID\n",
    "fact_df = fact_df.merge(dim_satisfaction, on=['JobSatisfaction', 'EnvironmentSatisfaction',\n",
    "                                               'RelationshipSatisfaction', 'JobInvolvement', 'WorkLifeBalance'], how='left')\n",
    "\n",
    "# Join with dim_time to get DateKey (optional if using DateKey instead of YearsAtCompany directly)\n",
    "fact_df = fact_df.merge(dim_time, on=['YearsAtCompany', 'YearsInCurrentRole'], how='left')\n",
    "\n",
    "# Final fact table\n",
    "fact_attrition = fact_df[['EmployeeNumber', 'JobRoleID', 'SatisfactionID',\n",
    "                          'Attrition', 'MonthlyIncome', 'YearsAtCompany']]\n",
    "\n",
    "# Rename columns to match schema\n",
    "fact_attrition = fact_attrition.rename(columns={\n",
    "    'EmployeeNumber': 'EmployeeID',\n",
    "    'Attrition': 'AttritionFlag'\n",
    "})\n"
   ]
  },
  {
   "cell_type": "code",
   "execution_count": 60,
   "id": "0ad238eb-9281-4496-8e96-d82fce2dcf2c",
   "metadata": {},
   "outputs": [
    {
     "name": "stdout",
     "output_type": "stream",
     "text": [
      " All star schema tables created and exported successfully!\n"
     ]
    }
   ],
   "source": [
    "# Export dimension tables\n",
    "dim_employee.to_csv(r\"C:\\Users\\tarun\\OneDrive\\Desktop\\Project csv\\dim_employee.csv\", index=False)\n",
    "dim_job.to_csv(r\"C:\\Users\\tarun\\OneDrive\\Desktop\\Project csv\\dim_job.csv\", index=False)\n",
    "dim_satisfaction.to_csv(r\"C:\\Users\\tarun\\OneDrive\\Desktop\\Project csv\\dim_satisfaction.csv\", index=False)\n",
    "dim_time.to_csv(r\"C:\\Users\\tarun\\OneDrive\\Desktop\\Project csv\\dim_time.csv\", index=False)\n",
    "\n",
    "# Export fact table\n",
    "fact_attrition.to_csv(r\"C:\\Users\\tarun\\OneDrive\\Desktop\\Project csv\\fact_attrition.csv\", index=False)\n",
    "\n",
    "print(\" All star schema tables created and exported successfully!\")\n"
   ]
  },
  {
   "cell_type": "code",
   "execution_count": null,
   "id": "7d7faea0-a686-484d-af49-1779e5d406b7",
   "metadata": {},
   "outputs": [],
   "source": []
  }
 ],
 "metadata": {
  "kernelspec": {
   "display_name": "Python 3 (ipykernel)",
   "language": "python",
   "name": "python3"
  },
  "language_info": {
   "codemirror_mode": {
    "name": "ipython",
    "version": 3
   },
   "file_extension": ".py",
   "mimetype": "text/x-python",
   "name": "python",
   "nbconvert_exporter": "python",
   "pygments_lexer": "ipython3",
   "version": "3.13.3"
  }
 },
 "nbformat": 4,
 "nbformat_minor": 5
}
